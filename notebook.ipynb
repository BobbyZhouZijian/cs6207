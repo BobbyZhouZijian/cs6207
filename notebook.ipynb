{
 "cells": [
  {
   "cell_type": "code",
   "execution_count": 1,
   "metadata": {},
   "outputs": [
    {
     "name": "stderr",
     "output_type": "stream",
     "text": [
      "/home/zijian/miniconda3/envs/llm/lib/python3.10/site-packages/transformers/utils/generic.py:311: UserWarning: torch.utils._pytree._register_pytree_node is deprecated. Please use torch.utils._pytree.register_pytree_node instead.\n",
      "  torch.utils._pytree._register_pytree_node(\n",
      "/home/zijian/miniconda3/envs/llm/lib/python3.10/site-packages/transformers/utils/generic.py:311: UserWarning: torch.utils._pytree._register_pytree_node is deprecated. Please use torch.utils._pytree.register_pytree_node instead.\n",
      "  torch.utils._pytree._register_pytree_node(\n"
     ]
    }
   ],
   "source": [
    "from model_utils import load_model_and_tokenizer, compute_cross_entropy\n",
    "import torch"
   ]
  },
  {
   "cell_type": "code",
   "execution_count": 2,
   "metadata": {},
   "outputs": [],
   "source": [
    "model_path = \"../llm/Llama-2-7b-chat-hf\"\n",
    "device = \"cuda\""
   ]
  },
  {
   "cell_type": "code",
   "execution_count": 3,
   "metadata": {},
   "outputs": [
    {
     "data": {
      "application/vnd.jupyter.widget-view+json": {
       "model_id": "e36e6206151343c387365fcaac6e4e78",
       "version_major": 2,
       "version_minor": 0
      },
      "text/plain": [
       "Loading checkpoint shards:   0%|          | 0/2 [00:00<?, ?it/s]"
      ]
     },
     "metadata": {},
     "output_type": "display_data"
    }
   ],
   "source": [
    "# Load the model and tokenizer\n",
    "model, tokenizer = load_model_and_tokenizer(model_path, low_cpu_mem_usage=True, \n",
    "                       use_cache=False,\n",
    "                       device=device)"
   ]
  },
  {
   "cell_type": "code",
   "execution_count": 28,
   "metadata": {},
   "outputs": [],
   "source": [
    "qn = \"\"\"\n",
    "What is 1 + 1 + (-1) + 1 + 1 + 1?\n",
    "\"\"\"\n",
    "input_ids = tokenizer.encode(qn, return_tensors=\"pt\").to(device)"
   ]
  },
  {
   "cell_type": "code",
   "execution_count": 26,
   "metadata": {},
   "outputs": [
    {
     "data": {
      "text/plain": [
       "tensor(0.1811, device='cuda:0')"
      ]
     },
     "execution_count": 26,
     "metadata": {},
     "output_type": "execute_result"
    }
   ],
   "source": [
    "compute_cross_entropy(input_ids, model, max_new_tokens=500, do_sample=False, num_return_sequences=1)"
   ]
  },
  {
   "cell_type": "code",
   "execution_count": 31,
   "metadata": {},
   "outputs": [
    {
     "name": "stdout",
     "output_type": "stream",
     "text": [
      "\n",
      "What is 1 + 1 + (-1) + 1 + 1 + 1?\n",
      "\n",
      "Using the order of operations (PEMDAS), evaluate the expression:\n",
      "\n",
      "1 + 1 + (-1) + 1 + 1 + 1\n",
      "\n",
      "The expression can be evaluated as follows:\n",
      "\n",
      "1 + 1 = 2\n",
      "2 + (-1) = 1\n",
      "1 + 1 = 2\n",
      "2 + 1 = 3\n",
      "3 + 1 = 4\n",
      "4 + 1 = 5\n",
      "\n",
      "Therefore, 1 + 1 + (-1) + 1 + 1 + 1 = 5.\n"
     ]
    }
   ],
   "source": [
    "res = model.generate(input_ids, max_length=500, num_return_sequences=1, do_sample=True, temperature=0.7, top_k=50, top_p=0.95)\n",
    "print(tokenizer.decode(res[0], skip_special_tokens=True))"
   ]
  },
  {
   "cell_type": "code",
   "execution_count": 7,
   "metadata": {},
   "outputs": [],
   "source": [
    "output = model.generate(input_ids, return_dict_in_generate=True, output_scores=True, max_length=500, num_return_sequences=1, do_sample=False)\n",
    "transition_scores = model.compute_transition_scores(output.sequences, output.scores, normalize_logits=True)"
   ]
  },
  {
   "cell_type": "code",
   "execution_count": 8,
   "metadata": {},
   "outputs": [],
   "source": [
    "idx = torch.exp(transition_scores) < 1-1e-3\n",
    "\n",
    "transition_scores = transition_scores[idx]"
   ]
  },
  {
   "cell_type": "code",
   "execution_count": 9,
   "metadata": {},
   "outputs": [
    {
     "data": {
      "text/plain": [
       "tensor(0.1020, device='cuda:0')"
      ]
     },
     "execution_count": 9,
     "metadata": {},
     "output_type": "execute_result"
    }
   ],
   "source": [
    "-torch.mean(transition_scores * torch.exp(transition_scores))"
   ]
  },
  {
   "cell_type": "code",
   "execution_count": null,
   "metadata": {},
   "outputs": [],
   "source": []
  }
 ],
 "metadata": {
  "kernelspec": {
   "display_name": "dv_dp",
   "language": "python",
   "name": "python3"
  },
  "language_info": {
   "codemirror_mode": {
    "name": "ipython",
    "version": 3
   },
   "file_extension": ".py",
   "mimetype": "text/x-python",
   "name": "python",
   "nbconvert_exporter": "python",
   "pygments_lexer": "ipython3",
   "version": "3.10.13"
  }
 },
 "nbformat": 4,
 "nbformat_minor": 2
}
